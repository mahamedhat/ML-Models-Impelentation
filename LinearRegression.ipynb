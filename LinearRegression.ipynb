{
 "cells": [
  {
   "cell_type": "code",
   "execution_count": 2,
   "metadata": {},
   "outputs": [],
   "source": [
    "import numpy as np\n",
    "from sklearn.model_selection import train_test_split\n",
    "from sklearn.linear_model import LinearRegression as skLinearRegression\n",
    "from sklearn.metrics import mean_squared_error\n",
    "from sklearn import datasets\n",
    "\n"
   ]
  },
  {
   "cell_type": "code",
   "execution_count": 3,
   "metadata": {},
   "outputs": [],
   "source": [
    "# Model implementation\n",
    "class LinearRegression:\n",
    "\n",
    "    def __init__(self,alpha = 0.001, n_iters = 1000):\n",
    "        self.alpha = alpha\n",
    "        self.n_iters = n_iters\n",
    "        self.weights = None\n",
    "        self.bias = None\n",
    "\n",
    "    def fit(self,X,y):\n",
    "        m , n = X.shape \n",
    "        self.weights = np.zeros(n)\n",
    "        self.bias = 0\n",
    "\n",
    "        for _ in range(self.n_iters):\n",
    "            # model\n",
    "            y_pred = np.dot(self.weights,X.T) +self.bias\n",
    "            # gradients \n",
    "            dj_dw = (1/m) * np.dot((y_pred- y),X)\n",
    "            dj_db = (1/m) * np.sum(y_pred- y)\n",
    "\n",
    "            self.weights -= self.alpha * dj_dw\n",
    "            self.bias -= self.bias * dj_db\n",
    "\n",
    "\n",
    "\n",
    "\n",
    "\n",
    "\n",
    "\n",
    "    def predict(self, X):\n",
    "        y_pred = np.dot(self.weights,X.T) +self.bias\n",
    "        return y_pred\n",
    "    \n",
    "\n",
    "\n",
    "    \n",
    "    def mse(self,y_test , y_pred):\n",
    "        return np.mean((y_test - y_pred)**2)\n"
   ]
  },
  {
   "cell_type": "code",
   "execution_count": 4,
   "metadata": {},
   "outputs": [
    {
     "name": "stdout",
     "output_type": "stream",
     "text": [
      "mse = 305.7455031898213\n"
     ]
    }
   ],
   "source": [
    "# Model testing\n",
    "X, y = datasets.make_regression(n_samples=100,n_features= 1,noise=20 , random_state=4)\n",
    "X_train , X_test, y_train, y_test = train_test_split(X,y,test_size=0.2,random_state=1234)\n",
    "\n",
    "\n",
    "reg = LinearRegression(alpha=0.01 , n_iters=500)\n",
    "reg.fit(X_train,y_train)\n",
    "pred = reg.predict(X_test)\n",
    "mse = reg.mse(y_test,pred)\n",
    "\n",
    "print(f\"mse = {mse}\")\n"
   ]
  },
  {
   "cell_type": "code",
   "execution_count": 5,
   "metadata": {},
   "outputs": [
    {
     "name": "stdout",
     "output_type": "stream",
     "text": [
      "mse = 305.7741316228642\n"
     ]
    }
   ],
   "source": [
    "#sklearn model\n",
    "model = skLinearRegression()\n",
    "model.fit(X_train, y_train)\n",
    "y_pred = model.predict(X_test)\n",
    "\n",
    "mse = mean_squared_error(y_test, y_pred)\n",
    "\n",
    "print(f\"mse = {mse}\")"
   ]
  },
  {
   "attachments": {},
   "cell_type": "markdown",
   "metadata": {},
   "source": [
    "## Proof of concept\n",
    "my model achieved an MSE of 305.75 , while the scikit-learn model achieved an MSE of 305.77 . The small difference in MSE between my model and the scikit-learn model suggests that my model is reasonably accurate and performs similarly to the industry standard. However, it's important to note that the accuracy of my model may vary depending on the specific data it is trained on and the features used. Further experimentation and testing may be necessary to determine the true accuracy of my model in different contexts."
   ]
  }
 ],
 "metadata": {
  "kernelspec": {
   "display_name": "Python 3",
   "language": "python",
   "name": "python3"
  },
  "language_info": {
   "codemirror_mode": {
    "name": "ipython",
    "version": 3
   },
   "file_extension": ".py",
   "mimetype": "text/x-python",
   "name": "python",
   "nbconvert_exporter": "python",
   "pygments_lexer": "ipython3",
   "version": "3.10.8"
  },
  "orig_nbformat": 4
 },
 "nbformat": 4,
 "nbformat_minor": 2
}
