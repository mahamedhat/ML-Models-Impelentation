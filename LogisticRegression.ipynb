{
 "cells": [
  {
   "cell_type": "code",
   "execution_count": 10,
   "metadata": {},
   "outputs": [],
   "source": [
    "import numpy as np\n",
    "from sklearn.model_selection import train_test_split\n",
    "from sklearn import datasets\n",
    "from sklearn.linear_model import LogisticRegression as skLogisticRegression\n",
    "from sklearn.metrics import accuracy_score\n"
   ]
  },
  {
   "cell_type": "code",
   "execution_count": 9,
   "metadata": {},
   "outputs": [],
   "source": [
    "def sigmoid (x):\n",
    "    return (1/(1+np.exp(-x)))"
   ]
  },
  {
   "cell_type": "code",
   "execution_count": 19,
   "metadata": {},
   "outputs": [],
   "source": [
    "# Model implementation\n",
    "class LogisticRegression:\n",
    "\n",
    "    def __init__(self,alpha = 0.001, n_iters = 1000):\n",
    "        self.alpha = alpha\n",
    "        self.n_iters = n_iters\n",
    "        self.weights = None\n",
    "        self.bias = None\n",
    "\n",
    "\n",
    "    def fit(self,X,y):\n",
    "        m , n = X.shape \n",
    "        self.weights = np.zeros(n)\n",
    "        self.bias = 0\n",
    "\n",
    "        for _ in range(self.n_iters):\n",
    "            # model\n",
    "            \n",
    "            linear_pred = np.dot(self.weights,X.T) +self.bias\n",
    "            y_pred = sigmoid(linear_pred)\n",
    "            # gradients \n",
    "            dj_dw = (1/m) * np.dot((y_pred- y),X)\n",
    "            dj_db = (1/m) * np.sum(y_pred- y)\n",
    "\n",
    "            self.weights -= self.alpha * dj_dw\n",
    "            self.bias -= self.bias * dj_db\n",
    "\n",
    "\n",
    "    def predict(self, X):\n",
    "        linear_pred = np.dot(self.weights,X.T) +self.bias\n",
    "        y_pred = sigmoid(linear_pred)\n",
    "        class_pred = [0 if y<0.5 else 1 for y in y_pred]\n",
    "        return class_pred\n",
    "    \n",
    "\n",
    "    def accuracy(self,y_test , y_pred):\n",
    "        return np.sum(y_pred == y_test)/len(y_test)\n"
   ]
  },
  {
   "cell_type": "code",
   "execution_count": 20,
   "metadata": {},
   "outputs": [
    {
     "name": "stderr",
     "output_type": "stream",
     "text": [
      "C:\\Users\\mahamedhat\\AppData\\Local\\Temp\\ipykernel_37520\\1469425069.py:2: RuntimeWarning: overflow encountered in exp\n",
      "  return (1/(1+np.exp(-x)))\n"
     ]
    },
    {
     "name": "stdout",
     "output_type": "stream",
     "text": [
      "accuracy = 0.9210526315789473\n"
     ]
    }
   ],
   "source": [
    "# Model Testing\n",
    "bc = datasets.load_breast_cancer()\n",
    "X, y = bc.data ,bc.target\n",
    "X_train , X_test, y_train, y_test = train_test_split(X,y,test_size=0.2,random_state=1234)\n",
    "\n",
    "\n",
    "clf = LogisticRegression(alpha=0.01)\n",
    "clf.fit(X_train,y_train)\n",
    "pred = clf.predict(X_test)\n",
    "acc = clf.accuracy(y_test,pred)\n",
    "\n",
    "print(f\"accuracy = {acc}\")\n"
   ]
  },
  {
   "cell_type": "code",
   "execution_count": 21,
   "metadata": {},
   "outputs": [
    {
     "name": "stdout",
     "output_type": "stream",
     "text": [
      "accuracy = 0.9473684210526315\n"
     ]
    },
    {
     "name": "stderr",
     "output_type": "stream",
     "text": [
      "c:\\Users\\mahamedhat\\AppData\\Local\\Programs\\Python\\Python310\\lib\\site-packages\\sklearn\\linear_model\\_logistic.py:444: ConvergenceWarning: lbfgs failed to converge (status=1):\n",
      "STOP: TOTAL NO. of ITERATIONS REACHED LIMIT.\n",
      "\n",
      "Increase the number of iterations (max_iter) or scale the data as shown in:\n",
      "    https://scikit-learn.org/stable/modules/preprocessing.html\n",
      "Please also refer to the documentation for alternative solver options:\n",
      "    https://scikit-learn.org/stable/modules/linear_model.html#logistic-regression\n",
      "  n_iter_i = _check_optimize_result(\n"
     ]
    }
   ],
   "source": [
    "#sklearn model\n",
    "model = skLogisticRegression()\n",
    "model.fit(X_train, y_train)\n",
    "y_pred = model.predict(X_test)\n",
    "\n",
    "accuracy = accuracy_score(y_test, y_pred)\n",
    "\n",
    "print(f\"accuracy = {accuracy}\")"
   ]
  },
  {
   "attachments": {},
   "cell_type": "markdown",
   "metadata": {},
   "source": [
    "## Proof of concept\n",
    "My model achieved an accuracy of 0.921, while the scikit-learn model achieved an accuracy of 0.947. The difference in accuracy between my model and the scikit-learn model suggests that my model is slightly less accurate than the industry standard. However, an accuracy of over 90% indicates that my model is still performing well and may be suitable for certain applications. It's important to note that the accuracy of my model may vary depending on the specific data it is trained on and the features used. Further experimentation and testing may be necessary to determine the true accuracy of my model in different contexts."
   ]
  }
 ],
 "metadata": {
  "kernelspec": {
   "display_name": "Python 3",
   "language": "python",
   "name": "python3"
  },
  "language_info": {
   "codemirror_mode": {
    "name": "ipython",
    "version": 3
   },
   "file_extension": ".py",
   "mimetype": "text/x-python",
   "name": "python",
   "nbconvert_exporter": "python",
   "pygments_lexer": "ipython3",
   "version": "3.10.8"
  },
  "orig_nbformat": 4
 },
 "nbformat": 4,
 "nbformat_minor": 2
}
