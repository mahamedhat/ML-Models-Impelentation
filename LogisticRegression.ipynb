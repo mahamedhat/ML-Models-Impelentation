{
 "cells": [
  {
   "cell_type": "code",
   "execution_count": 30,
   "metadata": {},
   "outputs": [],
   "source": [
    "import numpy as np\n",
    "from sklearn.model_selection import train_test_split\n",
    "from sklearn import datasets\n",
    "from sklearn.linear_model import LogisticRegression as skLogisticRegression\n",
    "from sklearn.metrics import accuracy_score\n"
   ]
  },
  {
   "cell_type": "code",
   "execution_count": 31,
   "metadata": {},
   "outputs": [],
   "source": [
    "import warnings\n",
    "from sklearn.exceptions import ConvergenceWarning\n",
    "warnings.filterwarnings(\"ignore\", category=ConvergenceWarning)\n",
    "warnings.filterwarnings(\"ignore\", category=RuntimeWarning)\n"
   ]
  },
  {
   "cell_type": "code",
   "execution_count": 32,
   "metadata": {},
   "outputs": [],
   "source": [
    "def sigmoid (x):\n",
    "    return (1/(1+np.exp(-x)))"
   ]
  },
  {
   "cell_type": "code",
   "execution_count": 33,
   "metadata": {},
   "outputs": [],
   "source": [
    "# Model implementation\n",
    "class LogisticRegression:\n",
    "\n",
    "    def __init__(self,alpha = 0.001, n_iters = 1000):\n",
    "        self.alpha = alpha\n",
    "        self.n_iters = n_iters\n",
    "        self.weights = None\n",
    "        self.bias = None\n",
    "\n",
    "\n",
    "    def fit(self,X,y):\n",
    "        m , n = X.shape \n",
    "        self.weights = np.zeros(n)\n",
    "        self.bias = 0\n",
    "\n",
    "        for _ in range(self.n_iters):\n",
    "            # model\n",
    "            \n",
    "            linear_pred = np.dot(self.weights,X.T) +self.bias\n",
    "            y_pred = sigmoid(linear_pred)\n",
    "            # gradients \n",
    "            dj_dw = (1/m) * np.dot((y_pred- y),X)\n",
    "            dj_db = (1/m) * np.sum(y_pred- y)\n",
    "\n",
    "            self.weights -= self.alpha * dj_dw\n",
    "            self.bias -= self.bias * dj_db\n",
    "\n",
    "\n",
    "    def predict(self, X):\n",
    "        linear_pred = np.dot(self.weights,X.T) +self.bias\n",
    "        y_pred = sigmoid(linear_pred)\n",
    "        class_pred = [0 if y<0.5 else 1 for y in y_pred]\n",
    "        return class_pred\n",
    "    \n",
    "\n",
    "    def accuracy(self,y_test , y_pred):\n",
    "        return np.sum(y_pred == y_test)/len(y_test)\n"
   ]
  },
  {
   "cell_type": "code",
   "execution_count": 34,
   "metadata": {},
   "outputs": [
    {
     "name": "stdout",
     "output_type": "stream",
     "text": [
      "accuracy = 0.9210526315789473\n"
     ]
    }
   ],
   "source": [
    "# Model Testing\n",
    "bc = datasets.load_breast_cancer()\n",
    "X, y = bc.data ,bc.target\n",
    "X_train , X_test, y_train, y_test = train_test_split(X,y,test_size=0.2,random_state=1234)\n",
    "\n",
    "\n",
    "clf = LogisticRegression(alpha=0.01)\n",
    "clf.fit(X_train,y_train)\n",
    "pred = clf.predict(X_test)\n",
    "acc = clf.accuracy(y_test,pred)\n",
    "\n",
    "print(f\"accuracy = {acc}\")\n"
   ]
  },
  {
   "cell_type": "code",
   "execution_count": 35,
   "metadata": {},
   "outputs": [
    {
     "name": "stdout",
     "output_type": "stream",
     "text": [
      "accuracy = 0.9473684210526315\n"
     ]
    }
   ],
   "source": [
    "#sklearn model\n",
    "model = skLogisticRegression()\n",
    "model.fit(X_train, y_train)\n",
    "y_pred = model.predict(X_test)\n",
    "\n",
    "accuracy = accuracy_score(y_test, y_pred)\n",
    "\n",
    "print(f\"accuracy = {accuracy}\")"
   ]
  },
  {
   "attachments": {},
   "cell_type": "markdown",
   "metadata": {},
   "source": [
    "## Proof of concept\n",
    "My model achieved an accuracy of 0.921, while the scikit-learn model achieved an accuracy of 0.947. The difference in accuracy between my model and the scikit-learn model suggests that my model is slightly less accurate than the industry standard. However, an accuracy of over 90% indicates that my model is still performing well and may be suitable for certain applications. It's important to note that the accuracy of my model may vary depending on the specific data it is trained on and the features used. Further experimentation and testing may be necessary to determine the true accuracy of my model in different contexts."
   ]
  }
 ],
 "metadata": {
  "kernelspec": {
   "display_name": "Python 3",
   "language": "python",
   "name": "python3"
  },
  "language_info": {
   "codemirror_mode": {
    "name": "ipython",
    "version": 3
   },
   "file_extension": ".py",
   "mimetype": "text/x-python",
   "name": "python",
   "nbconvert_exporter": "python",
   "pygments_lexer": "ipython3",
   "version": "3.10.8"
  },
  "orig_nbformat": 4
 },
 "nbformat": 4,
 "nbformat_minor": 2
}
